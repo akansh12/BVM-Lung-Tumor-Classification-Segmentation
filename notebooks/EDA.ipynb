{
 "cells": [
  {
   "cell_type": "markdown",
   "id": "ee133167",
   "metadata": {},
   "source": [
    "- Download the dataset\n",
    "- EDA\n",
    "- Check the size of both labels and input image\n",
    "- Ask a about the data abstract"
   ]
  },
  {
   "cell_type": "code",
   "execution_count": 3,
   "id": "0e938ad3",
   "metadata": {},
   "outputs": [],
   "source": [
    "import numpy as np\n",
    "import pandas as pd\n",
    "import matplotlib.pyplot as plt\n",
    "import pydicom\n",
    "import nibabel as nib\n",
    "import os"
   ]
  },
  {
   "cell_type": "code",
   "execution_count": 1,
   "id": "ec6a61b9",
   "metadata": {},
   "outputs": [],
   "source": [
    "path2raw_data = \"/scratch/scratch6/akansh12/BVM/BVM-Lung-Tumor-Classification-Segmentation/data/raw/Minmini_Selvam_SRM\""
   ]
  },
  {
   "cell_type": "code",
   "execution_count": 4,
   "id": "89b73dc6",
   "metadata": {},
   "outputs": [
    {
     "data": {
      "text/plain": [
       "['BENIGN NODULES', 'adeno vs squamous', 'MALIGNANT NODULES']"
      ]
     },
     "execution_count": 4,
     "metadata": {},
     "output_type": "execute_result"
    }
   ],
   "source": [
    "os.listdir(path2raw_data)"
   ]
  },
  {
   "cell_type": "markdown",
   "id": "4a145913",
   "metadata": {},
   "source": [
    "## Benign Nodules"
   ]
  },
  {
   "cell_type": "markdown",
   "id": "d9e33224",
   "metadata": {},
   "source": [
    "#### NON- COVID Benign"
   ]
  },
  {
   "cell_type": "code",
   "execution_count": 23,
   "id": "3e72d78e",
   "metadata": {},
   "outputs": [],
   "source": [
    "path2_raw_benign = \"/scratch/scratch6/akansh12/BVM/BVM-Lung-Tumor-Classification-Segmentation/data/raw/Minmini_Selvam_SRM/BENIGN NODULES\""
   ]
  },
  {
   "cell_type": "code",
   "execution_count": 24,
   "id": "c95b603e",
   "metadata": {},
   "outputs": [],
   "source": [
    "non_covid_patients = [i for i in os.listdir(path2_raw_benign) if i[0] == 'B' and i[-1]!='S']\n",
    "non_covid_patients_seg = [i for i in os.listdir(path2_raw_benign) if i[0] == 'B' and i[-1]=='S']"
   ]
  },
  {
   "cell_type": "code",
   "execution_count": 25,
   "id": "debfd8f2",
   "metadata": {},
   "outputs": [
    {
     "name": "stdout",
     "output_type": "stream",
     "text": [
      "Number of NON-COVID Benign: 40\n"
     ]
    }
   ],
   "source": [
    "assert len(non_covid_patients_seg) == len(non_covid_patients)\n",
    "print(\"Number of NON-COVID Benign:\", len(non_covid_patients))"
   ]
  },
  {
   "cell_type": "code",
   "execution_count": null,
   "id": "b3f4cbfb",
   "metadata": {},
   "outputs": [],
   "source": []
  },
  {
   "cell_type": "markdown",
   "id": "ed64ecd1",
   "metadata": {},
   "source": [
    "#### COVID Benign"
   ]
  },
  {
   "cell_type": "code",
   "execution_count": 33,
   "id": "f8451526",
   "metadata": {},
   "outputs": [],
   "source": [
    "path2raw_benign_covid = \"/scratch/scratch6/akansh12/BVM/BVM-Lung-Tumor-Classification-Segmentation/data/raw/Minmini_Selvam_SRM/BENIGN NODULES/COVID BENIGN NODULES\""
   ]
  },
  {
   "cell_type": "code",
   "execution_count": 34,
   "id": "5eb8b0ce",
   "metadata": {},
   "outputs": [],
   "source": [
    "covid_patients = [i for i in os.listdir(path2raw_benign_covid) if i[0] == 'C' and i[-1]!='S']\n",
    "covid_patients_seg = [i for i in os.listdir(path2raw_benign_covid) if i[0] == 'C' and i[-1]=='S']"
   ]
  },
  {
   "cell_type": "code",
   "execution_count": 35,
   "id": "8c6df920",
   "metadata": {},
   "outputs": [
    {
     "name": "stdout",
     "output_type": "stream",
     "text": [
      "Number of COVID Benign: 20\n"
     ]
    }
   ],
   "source": [
    "assert len(covid_patients) == len(covid_patients_seg)\n",
    "print(\"Number of COVID Benign:\", len(covid_patients))"
   ]
  },
  {
   "cell_type": "code",
   "execution_count": null,
   "id": "55ef8d79",
   "metadata": {},
   "outputs": [],
   "source": []
  },
  {
   "cell_type": "markdown",
   "id": "a13fcee0",
   "metadata": {},
   "source": [
    "## Malignant Nodules"
   ]
  },
  {
   "cell_type": "code",
   "execution_count": 51,
   "id": "535d59e0",
   "metadata": {},
   "outputs": [],
   "source": [
    "malignant_patients = [i for i in os.listdir(path2raw_data + '/'+ os.listdir(path2raw_data)[-1]) if i[0] == 'M' and i[-1]!='S']\n",
    "malignant_patients_seg = [i for i in os.listdir(path2raw_data + '/'+ os.listdir(path2raw_data)[-1]) if i[0] == 'M' and i[-1]=='S']\n"
   ]
  },
  {
   "cell_type": "code",
   "execution_count": 54,
   "id": "f7a010eb",
   "metadata": {},
   "outputs": [
    {
     "name": "stdout",
     "output_type": "stream",
     "text": [
      "Number of malignant: 50\n"
     ]
    }
   ],
   "source": [
    "assert len(malignant_patients) == len(malignant_patients_seg)\n",
    "print(\"Number of malignant:\", len(malignant_patients))"
   ]
  },
  {
   "cell_type": "markdown",
   "id": "527a1186",
   "metadata": {},
   "source": [
    "### Primary Lung Cancer vs Metastasis"
   ]
  },
  {
   "cell_type": "code",
   "execution_count": 59,
   "id": "a1580740",
   "metadata": {},
   "outputs": [],
   "source": [
    "mvp_label = pd.read_excel(\"/scratch/scratch6/akansh12/BVM/BVM-Lung-Tumor-Classification-Segmentation/data/raw/Minmini_Selvam_SRM/MALIGNANT NODULES/metastasis vs primary.xlsx\", )"
   ]
  },
  {
   "cell_type": "code",
   "execution_count": 73,
   "id": "d5543cf3",
   "metadata": {},
   "outputs": [
    {
     "data": {
      "text/html": [
       "<div>\n",
       "<style scoped>\n",
       "    .dataframe tbody tr th:only-of-type {\n",
       "        vertical-align: middle;\n",
       "    }\n",
       "\n",
       "    .dataframe tbody tr th {\n",
       "        vertical-align: top;\n",
       "    }\n",
       "\n",
       "    .dataframe thead th {\n",
       "        text-align: right;\n",
       "    }\n",
       "</style>\n",
       "<table border=\"1\" class=\"dataframe\">\n",
       "  <thead>\n",
       "    <tr style=\"text-align: right;\">\n",
       "      <th></th>\n",
       "      <th>s.no</th>\n",
       "      <th>patinet id.</th>\n",
       "      <th>HPE</th>\n",
       "    </tr>\n",
       "  </thead>\n",
       "  <tbody>\n",
       "    <tr>\n",
       "      <th>0</th>\n",
       "      <td>1</td>\n",
       "      <td>21469851</td>\n",
       "      <td>Metastasis</td>\n",
       "    </tr>\n",
       "    <tr>\n",
       "      <th>1</th>\n",
       "      <td>2</td>\n",
       "      <td>521082</td>\n",
       "      <td>Metastasis</td>\n",
       "    </tr>\n",
       "    <tr>\n",
       "      <th>2</th>\n",
       "      <td>3</td>\n",
       "      <td>2667592</td>\n",
       "      <td>primary lung cancer</td>\n",
       "    </tr>\n",
       "    <tr>\n",
       "      <th>3</th>\n",
       "      <td>4</td>\n",
       "      <td>2696632</td>\n",
       "      <td>Metastasis</td>\n",
       "    </tr>\n",
       "    <tr>\n",
       "      <th>4</th>\n",
       "      <td>5</td>\n",
       "      <td>2666892</td>\n",
       "      <td>Metastasis</td>\n",
       "    </tr>\n",
       "  </tbody>\n",
       "</table>\n",
       "</div>"
      ],
      "text/plain": [
       "   s.no patinet id.                   HPE\n",
       "0     1     21469851           Metastasis\n",
       "1     2       521082           Metastasis\n",
       "2     3      2667592  primary lung cancer\n",
       "3     4      2696632           Metastasis\n",
       "4     5      2666892           Metastasis"
      ]
     },
     "execution_count": 73,
     "metadata": {},
     "output_type": "execute_result"
    }
   ],
   "source": [
    "mvp_label.head()"
   ]
  },
  {
   "cell_type": "code",
   "execution_count": 86,
   "id": "066315a6",
   "metadata": {},
   "outputs": [],
   "source": [
    "metastasis = []\n",
    "primary_lung_cancer = []\n",
    "for i in range (len(mvp_label)):\n",
    "    if mvp_label.loc[:, 'HPE'][i][0] =='M':\n",
    "        metastasis.append(i+1)\n",
    "    else:\n",
    "        primary_lung_cancer.append(i+1)"
   ]
  },
  {
   "cell_type": "code",
   "execution_count": 93,
   "id": "678975ce",
   "metadata": {},
   "outputs": [
    {
     "name": "stdout",
     "output_type": "stream",
     "text": [
      "Number of Primary Lung Cancer: 26\n",
      "Number of Metastasis: 24\n"
     ]
    }
   ],
   "source": [
    "print(\"Number of Primary Lung Cancer:\", len(primary_lung_cancer))\n",
    "print(\"Number of Metastasis:\", len(metastasis))"
   ]
  },
  {
   "cell_type": "code",
   "execution_count": null,
   "id": "eb463fe5",
   "metadata": {},
   "outputs": [],
   "source": []
  },
  {
   "cell_type": "markdown",
   "id": "748bd2db",
   "metadata": {},
   "source": [
    "### Adenocarcinoma vs Squamous"
   ]
  },
  {
   "cell_type": "code",
   "execution_count": 96,
   "id": "2b48e83d",
   "metadata": {},
   "outputs": [],
   "source": [
    "avs_labels_1 = pd.read_excel('/scratch/scratch6/akansh12/BVM/BVM-Lung-Tumor-Classification-Segmentation/data/raw/Minmini_Selvam_SRM/MALIGNANT NODULES/adeno vs squamous.xlsx')"
   ]
  },
  {
   "cell_type": "code",
   "execution_count": 99,
   "id": "a911bed1",
   "metadata": {},
   "outputs": [
    {
     "data": {
      "text/html": [
       "<div>\n",
       "<style scoped>\n",
       "    .dataframe tbody tr th:only-of-type {\n",
       "        vertical-align: middle;\n",
       "    }\n",
       "\n",
       "    .dataframe tbody tr th {\n",
       "        vertical-align: top;\n",
       "    }\n",
       "\n",
       "    .dataframe thead th {\n",
       "        text-align: right;\n",
       "    }\n",
       "</style>\n",
       "<table border=\"1\" class=\"dataframe\">\n",
       "  <thead>\n",
       "    <tr style=\"text-align: right;\">\n",
       "      <th></th>\n",
       "      <th>s.no</th>\n",
       "      <th>patinet id.</th>\n",
       "      <th>HPE</th>\n",
       "      <th>RADIOLOGY</th>\n",
       "    </tr>\n",
       "  </thead>\n",
       "  <tbody>\n",
       "    <tr>\n",
       "      <th>0</th>\n",
       "      <td>3</td>\n",
       "      <td>2667592</td>\n",
       "      <td>squamous cell carcinoma</td>\n",
       "      <td>NaN</td>\n",
       "    </tr>\n",
       "    <tr>\n",
       "      <th>1</th>\n",
       "      <td>6</td>\n",
       "      <td>2696197</td>\n",
       "      <td>adenocarcinoma</td>\n",
       "      <td>NaN</td>\n",
       "    </tr>\n",
       "    <tr>\n",
       "      <th>2</th>\n",
       "      <td>13</td>\n",
       "      <td>2637586</td>\n",
       "      <td>adenocarcinoma</td>\n",
       "      <td>NaN</td>\n",
       "    </tr>\n",
       "    <tr>\n",
       "      <th>3</th>\n",
       "      <td>16</td>\n",
       "      <td>2638799</td>\n",
       "      <td>squamous cell carcinoma</td>\n",
       "      <td>NaN</td>\n",
       "    </tr>\n",
       "    <tr>\n",
       "      <th>4</th>\n",
       "      <td>22</td>\n",
       "      <td>2742708</td>\n",
       "      <td>adenocarcinoma</td>\n",
       "      <td>NaN</td>\n",
       "    </tr>\n",
       "  </tbody>\n",
       "</table>\n",
       "</div>"
      ],
      "text/plain": [
       "   s.no  patinet id.                       HPE  RADIOLOGY\n",
       "0     3       2667592  squamous cell carcinoma        NaN\n",
       "1     6       2696197           adenocarcinoma        NaN\n",
       "2    13       2637586           adenocarcinoma        NaN\n",
       "3    16       2638799  squamous cell carcinoma        NaN\n",
       "4    22       2742708           adenocarcinoma        NaN"
      ]
     },
     "execution_count": 99,
     "metadata": {},
     "output_type": "execute_result"
    }
   ],
   "source": [
    "avs_labels_1.head()"
   ]
  },
  {
   "cell_type": "code",
   "execution_count": 100,
   "id": "fb8177ad",
   "metadata": {},
   "outputs": [],
   "source": [
    "squamous = []\n",
    "adenocarcinoma = []\n",
    "for i in range(len(avs_labels_1)):\n",
    "    if avs_labels_1.loc[:, 'HPE'][i][0] == 's':\n",
    "        squamous.append(avs_labels_1.loc[:, 's.no'][i])\n",
    "    else:\n",
    "        adenocarcinoma.append(avs_labels_1.loc[:, 's.no'][i])"
   ]
  },
  {
   "cell_type": "code",
   "execution_count": 104,
   "id": "e4e650bd",
   "metadata": {},
   "outputs": [
    {
     "name": "stdout",
     "output_type": "stream",
     "text": [
      "Number of adenocarcinoma: 12\n",
      "Number of squamous: 6\n"
     ]
    }
   ],
   "source": [
    "print(\"Number of adenocarcinoma:\", len(adenocarcinoma))\n",
    "print(\"Number of squamous:\", len(squamous))"
   ]
  },
  {
   "cell_type": "code",
   "execution_count": null,
   "id": "9d2b36e9",
   "metadata": {},
   "outputs": [],
   "source": []
  },
  {
   "cell_type": "code",
   "execution_count": null,
   "id": "967ec5e3",
   "metadata": {},
   "outputs": [],
   "source": []
  },
  {
   "cell_type": "code",
   "execution_count": null,
   "id": "6ea192a1",
   "metadata": {},
   "outputs": [],
   "source": []
  },
  {
   "cell_type": "code",
   "execution_count": null,
   "id": "9e6b2b21",
   "metadata": {},
   "outputs": [],
   "source": []
  }
 ],
 "metadata": {
  "kernelspec": {
   "display_name": "env",
   "language": "python",
   "name": "env"
  },
  "language_info": {
   "codemirror_mode": {
    "name": "ipython",
    "version": 3
   },
   "file_extension": ".py",
   "mimetype": "text/x-python",
   "name": "python",
   "nbconvert_exporter": "python",
   "pygments_lexer": "ipython3",
   "version": "3.7.6"
  }
 },
 "nbformat": 4,
 "nbformat_minor": 5
}
