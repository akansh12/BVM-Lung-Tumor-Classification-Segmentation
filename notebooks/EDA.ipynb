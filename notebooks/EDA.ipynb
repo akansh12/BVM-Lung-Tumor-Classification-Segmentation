{
 "cells": [
  {
   "cell_type": "markdown",
   "id": "ee133167",
   "metadata": {},
   "source": [
    "- Download the dataset\n",
    "- EDA\n",
    "- Check the size of both labels and input image\n",
    "- Ask a about the data abstract"
   ]
  },
  {
   "cell_type": "code",
   "execution_count": 2,
   "id": "0e938ad3",
   "metadata": {},
   "outputs": [],
   "source": [
    "import numpy as np\n",
    "import pandas as pd\n",
    "import matplotlib.pyplot as plt\n",
    "import pydicom\n",
    "import nibabel as nib"
   ]
  },
  {
   "cell_type": "code",
   "execution_count": null,
   "id": "ec6a61b9",
   "metadata": {},
   "outputs": [],
   "source": []
  }
 ],
 "metadata": {
  "kernelspec": {
   "display_name": "env",
   "language": "python",
   "name": "env"
  },
  "language_info": {
   "codemirror_mode": {
    "name": "ipython",
    "version": 3
   },
   "file_extension": ".py",
   "mimetype": "text/x-python",
   "name": "python",
   "nbconvert_exporter": "python",
   "pygments_lexer": "ipython3",
   "version": "3.7.6"
  }
 },
 "nbformat": 4,
 "nbformat_minor": 5
}
