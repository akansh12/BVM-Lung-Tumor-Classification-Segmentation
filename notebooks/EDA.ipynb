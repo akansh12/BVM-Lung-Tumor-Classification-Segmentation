{
 "cells": [
  {
   "cell_type": "markdown",
   "id": "ee133167",
   "metadata": {},
   "source": [
    "- Download the dataset\n",
    "- EDA\n",
    "- Check the size of both labels and input image\n",
    "- Ask a about the data abstract"
   ]
  },
  {
   "cell_type": "code",
   "execution_count": 3,
   "id": "0e938ad3",
   "metadata": {},
   "outputs": [],
   "source": [
    "import numpy as np\n",
    "import pandas as pd\n",
    "import matplotlib.pyplot as plt\n",
    "import pydicom\n",
    "import nibabel as nib\n",
    "import os"
   ]
  },
  {
   "cell_type": "code",
   "execution_count": 1,
   "id": "ec6a61b9",
   "metadata": {},
   "outputs": [],
   "source": [
    "path2raw_data = \"/scratch/scratch6/akansh12/BVM/BVM-Lung-Tumor-Classification-Segmentation/data/raw/Minmini_Selvam_SRM\""
   ]
  },
  {
   "cell_type": "code",
   "execution_count": 4,
   "id": "89b73dc6",
   "metadata": {},
   "outputs": [
    {
     "data": {
      "text/plain": [
       "['BENIGN NODULES', 'adeno vs squamous', 'MALIGNANT NODULES']"
      ]
     },
     "execution_count": 4,
     "metadata": {},
     "output_type": "execute_result"
    }
   ],
   "source": [
    "os.listdir(path2raw_data)"
   ]
  },
  {
   "cell_type": "markdown",
   "id": "10736d66",
   "metadata": {},
   "source": [
    "## Benign Nodules"
   ]
  },
  {
   "cell_type": "markdown",
   "id": "f0c3b24b",
   "metadata": {},
   "source": [
    "#### NON- COVID Benign"
   ]
  },
  {
   "cell_type": "code",
   "execution_count": 23,
   "id": "42b6f060",
   "metadata": {},
   "outputs": [],
   "source": [
    "path2_raw_benign = \"/scratch/scratch6/akansh12/BVM/BVM-Lung-Tumor-Classification-Segmentation/data/raw/Minmini_Selvam_SRM/BENIGN NODULES\""
   ]
  },
  {
   "cell_type": "code",
   "execution_count": 24,
   "id": "be2b7785",
   "metadata": {},
   "outputs": [],
   "source": [
    "non_covid_patients = [i for i in os.listdir(path2_raw_benign) if i[0] == 'B' and i[-1]!='S']\n",
    "non_covid_patients_seg = [i for i in os.listdir(path2_raw_benign) if i[0] == 'B' and i[-1]=='S']"
   ]
  },
  {
   "cell_type": "code",
   "execution_count": 25,
   "id": "e70c50bb",
   "metadata": {},
   "outputs": [
    {
     "name": "stdout",
     "output_type": "stream",
     "text": [
      "Number of NON-COVID Benign: 40\n"
     ]
    }
   ],
   "source": [
    "assert len(non_covid_patients_seg) == len(non_covid_patients)\n",
    "print(\"Number of NON-COVID Benign:\", len(non_covid_patients))"
   ]
  },
  {
   "cell_type": "code",
   "execution_count": null,
   "id": "27c09793",
   "metadata": {},
   "outputs": [],
   "source": []
  },
  {
   "cell_type": "markdown",
   "id": "f627b136",
   "metadata": {},
   "source": [
    "#### COVID Benign"
   ]
  },
  {
   "cell_type": "code",
   "execution_count": 33,
   "id": "63fff91e",
   "metadata": {},
   "outputs": [],
   "source": [
    "path2raw_benign_covid = \"/scratch/scratch6/akansh12/BVM/BVM-Lung-Tumor-Classification-Segmentation/data/raw/Minmini_Selvam_SRM/BENIGN NODULES/COVID BENIGN NODULES\""
   ]
  },
  {
   "cell_type": "code",
   "execution_count": 34,
   "id": "fea22674",
   "metadata": {},
   "outputs": [],
   "source": [
    "covid_patients = [i for i in os.listdir(path2raw_benign_covid) if i[0] == 'C' and i[-1]!='S']\n",
    "covid_patients_seg = [i for i in os.listdir(path2raw_benign_covid) if i[0] == 'C' and i[-1]=='S']"
   ]
  },
  {
   "cell_type": "code",
   "execution_count": 35,
   "id": "f462dc48",
   "metadata": {},
   "outputs": [
    {
     "name": "stdout",
     "output_type": "stream",
     "text": [
      "Number of COVID Benign: 20\n"
     ]
    }
   ],
   "source": [
    "assert len(covid_patients) == len(covid_patients_seg)\n",
    "print(\"Number of COVID Benign:\", len(covid_patients))"
   ]
  },
  {
   "cell_type": "code",
   "execution_count": null,
   "id": "e26ba1a6",
   "metadata": {},
   "outputs": [],
   "source": []
  },
  {
   "cell_type": "markdown",
   "id": "5387cace",
   "metadata": {},
   "source": [
    "## Malignant Nodules"
   ]
  },
  {
   "cell_type": "code",
   "execution_count": 51,
   "id": "abb0035c",
   "metadata": {},
   "outputs": [],
   "source": [
    "malignant_patients = [i for i in os.listdir(path2raw_data + '/'+ os.listdir(path2raw_data)[-1]) if i[0] == 'M' and i[-1]!='S']\n",
    "malignant_patients_seg = [i for i in os.listdir(path2raw_data + '/'+ os.listdir(path2raw_data)[-1]) if i[0] == 'M' and i[-1]=='S']\n"
   ]
  },
  {
   "cell_type": "code",
   "execution_count": 54,
   "id": "dcabde1f",
   "metadata": {},
   "outputs": [
    {
     "name": "stdout",
     "output_type": "stream",
     "text": [
      "Number of malignant: 50\n"
     ]
    }
   ],
   "source": [
    "assert len(malignant_patients) == len(malignant_patients_seg)\n",
    "print(\"Number of malignant:\", len(malignant_patients))"
   ]
  },
  {
   "cell_type": "markdown",
   "id": "599c7cfe",
   "metadata": {},
   "source": [
    "### Primary Lung Cancer vs Metastasis"
   ]
  },
  {
   "cell_type": "code",
   "execution_count": 59,
   "id": "3fd5eb08",
   "metadata": {},
   "outputs": [],
   "source": [
    "mvp_label = pd.read_excel(\"/scratch/scratch6/akansh12/BVM/BVM-Lung-Tumor-Classification-Segmentation/data/raw/Minmini_Selvam_SRM/MALIGNANT NODULES/metastasis vs primary.xlsx\", )"
   ]
  },
  {
   "cell_type": "code",
   "execution_count": 73,
   "id": "fb1baf69",
   "metadata": {},
   "outputs": [
    {
     "data": {
      "text/html": [
       "<div>\n",
       "<style scoped>\n",
       "    .dataframe tbody tr th:only-of-type {\n",
       "        vertical-align: middle;\n",
       "    }\n",
       "\n",
       "    .dataframe tbody tr th {\n",
       "        vertical-align: top;\n",
       "    }\n",
       "\n",
       "    .dataframe thead th {\n",
       "        text-align: right;\n",
       "    }\n",
       "</style>\n",
       "<table border=\"1\" class=\"dataframe\">\n",
       "  <thead>\n",
       "    <tr style=\"text-align: right;\">\n",
       "      <th></th>\n",
       "      <th>s.no</th>\n",
       "      <th>patinet id.</th>\n",
       "      <th>HPE</th>\n",
       "    </tr>\n",
       "  </thead>\n",
       "  <tbody>\n",
       "    <tr>\n",
       "      <th>0</th>\n",
       "      <td>1</td>\n",
       "      <td>21469851</td>\n",
       "      <td>Metastasis</td>\n",
       "    </tr>\n",
       "    <tr>\n",
       "      <th>1</th>\n",
       "      <td>2</td>\n",
       "      <td>521082</td>\n",
       "      <td>Metastasis</td>\n",
       "    </tr>\n",
       "    <tr>\n",
       "      <th>2</th>\n",
       "      <td>3</td>\n",
       "      <td>2667592</td>\n",
       "      <td>primary lung cancer</td>\n",
       "    </tr>\n",
       "    <tr>\n",
       "      <th>3</th>\n",
       "      <td>4</td>\n",
       "      <td>2696632</td>\n",
       "      <td>Metastasis</td>\n",
       "    </tr>\n",
       "    <tr>\n",
       "      <th>4</th>\n",
       "      <td>5</td>\n",
       "      <td>2666892</td>\n",
       "      <td>Metastasis</td>\n",
       "    </tr>\n",
       "  </tbody>\n",
       "</table>\n",
       "</div>"
      ],
      "text/plain": [
       "   s.no patinet id.                   HPE\n",
       "0     1     21469851           Metastasis\n",
       "1     2       521082           Metastasis\n",
       "2     3      2667592  primary lung cancer\n",
       "3     4      2696632           Metastasis\n",
       "4     5      2666892           Metastasis"
      ]
     },
     "execution_count": 73,
     "metadata": {},
     "output_type": "execute_result"
    }
   ],
   "source": [
    "mvp_label.head()"
   ]
  },
  {
   "cell_type": "code",
   "execution_count": 86,
   "id": "f4740996",
   "metadata": {},
   "outputs": [],
   "source": [
    "metastasis = []\n",
    "primary_lung_cancer = []\n",
    "for i in range (len(mvp_label)):\n",
    "    if mvp_label.loc[:, 'HPE'][i][0] =='M':\n",
    "        metastasis.append(i+1)\n",
    "    else:\n",
    "        primary_lung_cancer.append(i+1)"
   ]
  },
  {
   "cell_type": "code",
   "execution_count": 93,
   "id": "d93a6bcd",
   "metadata": {},
   "outputs": [
    {
     "name": "stdout",
     "output_type": "stream",
     "text": [
      "Number of Primary Lung Cancer: 26\n",
      "Number of Metastasis: 24\n"
     ]
    }
   ],
   "source": [
    "print(\"Number of Primary Lung Cancer:\", len(primary_lung_cancer))\n",
    "print(\"Number of Metastasis:\", len(metastasis))"
   ]
  },
  {
   "cell_type": "code",
   "execution_count": null,
   "id": "6790eac3",
   "metadata": {},
   "outputs": [],
   "source": []
  },
  {
   "cell_type": "markdown",
   "id": "ab43fa15",
   "metadata": {},
   "source": [
    "### Adenocarcinoma vs Squamous"
   ]
  },
  {
   "cell_type": "code",
   "execution_count": 96,
   "id": "86e09ac6",
   "metadata": {},
   "outputs": [],
   "source": [
    "avs_labels_1 = pd.read_excel('/scratch/scratch6/akansh12/BVM/BVM-Lung-Tumor-Classification-Segmentation/data/raw/Minmini_Selvam_SRM/MALIGNANT NODULES/adeno vs squamous.xlsx')"
   ]
  },
  {
   "cell_type": "code",
   "execution_count": 99,
   "id": "7f8307bd",
   "metadata": {},
   "outputs": [
    {
     "data": {
      "text/html": [
       "<div>\n",
       "<style scoped>\n",
       "    .dataframe tbody tr th:only-of-type {\n",
       "        vertical-align: middle;\n",
       "    }\n",
       "\n",
       "    .dataframe tbody tr th {\n",
       "        vertical-align: top;\n",
       "    }\n",
       "\n",
       "    .dataframe thead th {\n",
       "        text-align: right;\n",
       "    }\n",
       "</style>\n",
       "<table border=\"1\" class=\"dataframe\">\n",
       "  <thead>\n",
       "    <tr style=\"text-align: right;\">\n",
       "      <th></th>\n",
       "      <th>s.no</th>\n",
       "      <th>patinet id.</th>\n",
       "      <th>HPE</th>\n",
       "      <th>RADIOLOGY</th>\n",
       "    </tr>\n",
       "  </thead>\n",
       "  <tbody>\n",
       "    <tr>\n",
       "      <th>0</th>\n",
       "      <td>3</td>\n",
       "      <td>2667592</td>\n",
       "      <td>squamous cell carcinoma</td>\n",
       "      <td>NaN</td>\n",
       "    </tr>\n",
       "    <tr>\n",
       "      <th>1</th>\n",
       "      <td>6</td>\n",
       "      <td>2696197</td>\n",
       "      <td>adenocarcinoma</td>\n",
       "      <td>NaN</td>\n",
       "    </tr>\n",
       "    <tr>\n",
       "      <th>2</th>\n",
       "      <td>13</td>\n",
       "      <td>2637586</td>\n",
       "      <td>adenocarcinoma</td>\n",
       "      <td>NaN</td>\n",
       "    </tr>\n",
       "    <tr>\n",
       "      <th>3</th>\n",
       "      <td>16</td>\n",
       "      <td>2638799</td>\n",
       "      <td>squamous cell carcinoma</td>\n",
       "      <td>NaN</td>\n",
       "    </tr>\n",
       "    <tr>\n",
       "      <th>4</th>\n",
       "      <td>22</td>\n",
       "      <td>2742708</td>\n",
       "      <td>adenocarcinoma</td>\n",
       "      <td>NaN</td>\n",
       "    </tr>\n",
       "  </tbody>\n",
       "</table>\n",
       "</div>"
      ],
      "text/plain": [
       "   s.no  patinet id.                       HPE  RADIOLOGY\n",
       "0     3       2667592  squamous cell carcinoma        NaN\n",
       "1     6       2696197           adenocarcinoma        NaN\n",
       "2    13       2637586           adenocarcinoma        NaN\n",
       "3    16       2638799  squamous cell carcinoma        NaN\n",
       "4    22       2742708           adenocarcinoma        NaN"
      ]
     },
     "execution_count": 99,
     "metadata": {},
     "output_type": "execute_result"
    }
   ],
   "source": [
    "avs_labels_1.head()"
   ]
  },
  {
   "cell_type": "code",
   "execution_count": 100,
   "id": "069f82dc",
   "metadata": {},
   "outputs": [],
   "source": [
    "squamous = []\n",
    "adenocarcinoma = []\n",
    "for i in range(len(avs_labels_1)):\n",
    "    if avs_labels_1.loc[:, 'HPE'][i][0] == 's':\n",
    "        squamous.append(avs_labels_1.loc[:, 's.no'][i])\n",
    "    else:\n",
    "        adenocarcinoma.append(avs_labels_1.loc[:, 's.no'][i])"
   ]
  },
  {
   "cell_type": "code",
   "execution_count": 104,
   "id": "59b3c875",
   "metadata": {},
   "outputs": [
    {
     "name": "stdout",
     "output_type": "stream",
     "text": [
      "Number of adenocarcinoma: 12\n",
      "Number of squamous: 6\n"
     ]
    }
   ],
   "source": [
    "print(\"Number of adenocarcinoma:\", len(adenocarcinoma))\n",
    "print(\"Number of squamous:\", len(squamous))"
   ]
  },
  {
   "cell_type": "code",
   "execution_count": null,
   "id": "2762a714",
   "metadata": {},
   "outputs": [],
   "source": []
  },
  {
   "cell_type": "code",
   "execution_count": null,
   "id": "090c9131",
   "metadata": {},
   "outputs": [],
   "source": []
  }
 ],
 "metadata": {
  "kernelspec": {
   "display_name": "env",
   "language": "python",
   "name": "env"
  },
  "language_info": {
   "codemirror_mode": {
    "name": "ipython",
    "version": 3
   },
   "file_extension": ".py",
   "mimetype": "text/x-python",
   "name": "python",
   "nbconvert_exporter": "python",
   "pygments_lexer": "ipython3",
   "version": "3.7.6"
  }
 },
 "nbformat": 4,
 "nbformat_minor": 5
}
